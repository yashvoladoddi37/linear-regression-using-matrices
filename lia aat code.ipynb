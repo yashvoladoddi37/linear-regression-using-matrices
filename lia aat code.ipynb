{
 "cells": [
  {
   "cell_type": "code",
   "execution_count": 30,
   "metadata": {},
   "outputs": [],
   "source": [
    "import numpy as np\n",
    "import matplotlib.pyplot as plt"
   ]
  },
  {
   "cell_type": "code",
   "execution_count": 31,
   "metadata": {},
   "outputs": [],
   "source": [
    "Y = []\n",
    "ylabel = input(\"Enter the label of matrix Y\")\n",
    "while True:\n",
    "    y = input(\"enter input for Matrix Y, press enter without writing to stop: \")\n",
    "    if y == \"\":\n",
    "        break\n",
    "    Y.append(int(y))"
   ]
  },
  {
   "cell_type": "code",
   "execution_count": 32,
   "metadata": {},
   "outputs": [],
   "source": [
    "X = []\n",
    "xlabel = input(\"Enter the Label of matrix X\")\n",
    "while True:\n",
    "    x = input(\"enter input for Matrix X, press enter without writing to stop: \")\n",
    "    if x == \"\":\n",
    "        break\n",
    "    X.append(int(x))"
   ]
  },
  {
   "cell_type": "code",
   "execution_count": 33,
   "metadata": {},
   "outputs": [],
   "source": [
    "X_mat = np.vstack((np.ones(len(X)), X)).T"
   ]
  },
  {
   "cell_type": "code",
   "execution_count": 79,
   "metadata": {},
   "outputs": [
    {
     "name": "stdout",
     "output_type": "stream",
     "text": [
      "X =  [49, 69, 89, 99, 109]\n",
      "Y =  [124, 95, 71, 45, 18]\n",
      "A =  [211.27068966  -1.69482759]\n",
      "f(x) =  [128.22413793103448, 94.32758620689657, 60.43103448275869, 43.48275862068974, 26.53448275862081]\n",
      "E =  [-4.22413793  0.67241379 10.56896552  1.51724138 -8.53448276]\n",
      "Sum of Squared Errors =  205.13793103448305\n"
     ]
    }
   ],
   "source": [
    "print(\"X = \", X)\n",
    "print(\"Y = \", Y)\n",
    "A = np.linalg.inv(X_mat.T.dot(X_mat)).dot(X_mat.T).dot(Y)\n",
    "print(\"A = \", A)\n",
    "e = []\n",
    "f = []\n",
    "SSE = []\n",
    "for i in range(len(X)):\n",
    "    f.append(A[0] + (X[i]*A[1]))\n",
    "    e.append(Y[i] - f[i])\n",
    "print(\"f(x) = \", f)\n",
    "e = np.array(e)\n",
    "print(\"E = \", e)\n",
    "SSE =  (e.T).dot(e)\n",
    "print(\"Sum of Squared Errors = \",SSE)"
   ]
  },
  {
   "cell_type": "code",
   "execution_count": 80,
   "metadata": {},
   "outputs": [
    {
     "data": {
      "text/plain": [
       "Text(0.5, 0, 'Price')"
      ]
     },
     "execution_count": 80,
     "metadata": {},
     "output_type": "execute_result"
    },
    {
     "data": {
      "image/png": "[encoded data removed]",
      "text/plain": [
       "<Figure size 432x288 with 1 Axes>"
      ]
     },
     "metadata": {
      "needs_background": "light"
     },
     "output_type": "display_data"
    }
   ],
   "source": [
    "Y1 = X_mat.dot(B)\n",
    "p = plt.scatter(X,Y)\n",
    "plt.plot(X,Y1, color = 'red')\n",
    "p.axes.set_title(\"Scatter plot of the two matrices\")\n",
    "p.axes.set_ylabel(ylabel)\n",
    "p.axes.set_xlabel(xlabel)"
   ]
  }
 ],
 "metadata": {
  "kernelspec": {
   "display_name": "Python 3.10.3 64-bit",
   "language": "python",
   "name": "python3"
  },
  "language_info": {
   "codemirror_mode": {
    "name": "ipython",
    "version": 3
   },
   "file_extension": ".py",
   "mimetype": "text/x-python",
   "name": "python",
   "nbconvert_exporter": "python",
   "pygments_lexer": "ipython3",
   "version": "3.10.3"
  },
  "orig_nbformat": 4,
  "vscode": {
   "interpreter": {
    "hash": "07ae28a253f6a1d55f8a1b0801baa87a98942a4059dd583cab139451b4a1afb0"
   }
  }
 },
 "nbformat": 4,
 "nbformat_minor": 2
}
